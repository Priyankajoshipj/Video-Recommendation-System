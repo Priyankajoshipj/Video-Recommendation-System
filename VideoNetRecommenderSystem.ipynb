{
 "cells": [
  {
   "cell_type": "code",
   "execution_count": null,
   "metadata": {},
   "outputs": [],
   "source": [
    "import numpy as np\n",
    "import pandas as pd\n",
    "import sklearn as sc\n",
    "from sklearn import preprocessing \n",
    "from sklearn.cross_validation import train_test_split\n",
    "from sklearn.cluster import KMeans\n",
    "import matplotlib.pyplot as plt\n",
    "import seaborn as sns\n",
    "from sklearn.preprocessing import StandardScaler \n",
    "from sklearn.model_selection import KFold, cross_val_score,cross_val_predict\n",
    "from kmodes.kmodes import KModes\n",
    "from sklearn.linear_model import LogisticRegression"
   ]
  },
  {
   "cell_type": "code",
   "execution_count": null,
   "metadata": {},
   "outputs": [],
   "source": [
    "Col_Names= ['LectureID','LecturePaired','Frequency']\n",
    "df_Pairs=pd.read_csv('C:\\\\Users\\priya\\Documents\\Python Scripts\\pairs.csv',sep=',',names=Col_Names,dtype={'LectureID':int,'LecturePaired':int,'Frequency':int})"
   ]
  },
  {
   "cell_type": "code",
   "execution_count": null,
   "metadata": {},
   "outputs": [],
   "source": [
    "df_Pairs.head()"
   ]
  },
  {
   "cell_type": "code",
   "execution_count": null,
   "metadata": {},
   "outputs": [],
   "source": [
    "#df_Pairs=df_Pairs.drop(df_Pairs.index[0])\n",
    "df_Pairs.dtypes"
   ]
  },
  {
   "cell_type": "code",
   "execution_count": null,
   "metadata": {},
   "outputs": [],
   "source": [
    "Col_Names1= ['LectureID','Type','language','parentId','views','rec_date','pub_date','name']\n",
    "df_Lectures=pd.read_csv('C:\\\\Users\\priya\\Documents\\Python Scripts\\lectures_train_New1.csv',sep=',',names=Col_Names1)"
   ]
  },
  {
   "cell_type": "code",
   "execution_count": null,
   "metadata": {},
   "outputs": [],
   "source": [
    "df_Lectures.head()"
   ]
  },
  {
   "cell_type": "code",
   "execution_count": null,
   "metadata": {
    "collapsed": true
   },
   "outputs": [],
   "source": [
    "df_Lectures=df_Lectures.drop(df_Lectures.columns[[1, 3,5]], axis=1)"
   ]
  },
  {
   "cell_type": "code",
   "execution_count": null,
   "metadata": {
    "collapsed": true
   },
   "outputs": [],
   "source": [
    "df_Lectures=df_Lectures.drop(df_Lectures.index[0])"
   ]
  },
  {
   "cell_type": "code",
   "execution_count": null,
   "metadata": {},
   "outputs": [],
   "source": [
    "Col_Names2= ['AuthorID','A_Name','email','homepage','gender','organization']\n",
    "df_Authors=pd.read_csv('C:\\\\Users\\\\priya\\\\Documents\\\\Python Scripts\\\\authors.csv',sep=',',names=Col_Names2,dtype={'AuthorID':int,'A_Name':str,'email':str,'homepage':str,'gender':str})\n",
    "Col_Names3= ['CategoryID','C_Name','parentID','wikipediaURL']\n",
    "df_Categories=pd.read_csv('C:\\\\Users\\priya\\Documents\\Python Scripts\\categories.csv',sep=',',names=Col_Names3)\n",
    "Col_Names4= ['CategoryID','LectureID']\n",
    "df_Categories_Lectures=pd.read_csv('C:\\\\Users\\priya\\Documents\\Python Scripts\\categories_lectures.csv',names=Col_Names4,sep=',',dtype={'CategoryID':int,'LectureID':int})\n",
    "Col_Names5= ['AuthorID','LectureID']\n",
    "df_Authors_Lectures=pd.read_csv('C:\\\\Users\\\\priya\\\\Documents\\\\Python Scripts\\\\authors_lectures.csv',names=Col_Names5,sep=',',dtype={'AuthorID':int,'LectureID':int})"
   ]
  },
  {
   "cell_type": "code",
   "execution_count": null,
   "metadata": {},
   "outputs": [],
   "source": [
    "df_Authors=df_Authors.drop(df_Authors.columns[[2, 3,4]], axis=1)\n",
    "df_Categories=df_Categories.drop(df_Categories.columns[[2, 3]], axis=1)\n",
    "#df_Categories=df_Categories.drop(df_Categories.index[0])\n",
    "#df_Authors=df_Authors.drop(df_Authors.index[0])\n",
    "#df_Categories_Lectures=df_Categories_Lectures.drop(df_Categories_Lectures.index[0])\n",
    "#df_Authors_Lectures=df_Authors_Lectures.drop(df_Authors_Lectures.index[0])"
   ]
  },
  {
   "cell_type": "code",
   "execution_count": null,
   "metadata": {},
   "outputs": [],
   "source": [
    "#df_Lectures['LectureID']= df_Lectures.LectureID.astype(str).astype(int) not working\n",
    "df_Lectures['LectureID']=pd.to_numeric(df_Lectures.LectureID, errors='coerce')"
   ]
  },
  {
   "cell_type": "code",
   "execution_count": null,
   "metadata": {},
   "outputs": [],
   "source": [
    "df_Lectures.dtypes"
   ]
  },
  {
   "cell_type": "code",
   "execution_count": null,
   "metadata": {},
   "outputs": [],
   "source": [
    "#df_Authors_Lectures=df_Authors_Lectures.drop(df_Authors_Lectures.columns[[3]], axis=1)\n"
   ]
  },
  {
   "cell_type": "code",
   "execution_count": null,
   "metadata": {},
   "outputs": [],
   "source": [
    "df_Authors_Lectures.dtypes"
   ]
  },
  {
   "cell_type": "code",
   "execution_count": null,
   "metadata": {},
   "outputs": [],
   "source": [
    "df_Categories.dtypes"
   ]
  },
  {
   "cell_type": "code",
   "execution_count": null,
   "metadata": {},
   "outputs": [],
   "source": [
    "df_Categories_Lectures.head()"
   ]
  },
  {
   "cell_type": "code",
   "execution_count": null,
   "metadata": {},
   "outputs": [],
   "source": [
    "df_Authors_Lectures.dtypes"
   ]
  },
  {
   "cell_type": "code",
   "execution_count": null,
   "metadata": {},
   "outputs": [],
   "source": [
    "df_Authors_Lectures=pd.merge(df_Authors_Lectures,df_Authors, on='AuthorID')\n"
   ]
  },
  {
   "cell_type": "code",
   "execution_count": null,
   "metadata": {
    "collapsed": true
   },
   "outputs": [],
   "source": [
    "df_Categories_Lectures=pd.merge(df_Categories_Lectures,df_Categories, on='CategoryID')"
   ]
  },
  {
   "cell_type": "code",
   "execution_count": null,
   "metadata": {
    "collapsed": true
   },
   "outputs": [],
   "source": [
    "df_Authors_Lectures_Category=pd.merge(df_Categories_Lectures,df_Authors_Lectures, on='LectureID')"
   ]
  },
  {
   "cell_type": "code",
   "execution_count": null,
   "metadata": {},
   "outputs": [],
   "source": [
    "df_Authors_Lectures_Category.dtypes"
   ]
  },
  {
   "cell_type": "code",
   "execution_count": null,
   "metadata": {
    "collapsed": true
   },
   "outputs": [],
   "source": [
    "df_Authors_Lectures_Category=pd.merge(df_Authors_Lectures_Category,df_Lectures, on='LectureID')"
   ]
  },
  {
   "cell_type": "code",
   "execution_count": null,
   "metadata": {
    "collapsed": true
   },
   "outputs": [],
   "source": [
    "df_Authors_Lectures_Category=pd.merge(df_Authors_Lectures_Category,df_Pairs, on='LectureID')"
   ]
  },
  {
   "cell_type": "code",
   "execution_count": null,
   "metadata": {},
   "outputs": [],
   "source": [
    "df_Authors_Lectures_Category.dtypes"
   ]
  },
  {
   "cell_type": "code",
   "execution_count": null,
   "metadata": {},
   "outputs": [],
   "source": [
    "df_Authors_Lectures_Category.head()"
   ]
  },
  {
   "cell_type": "code",
   "execution_count": null,
   "metadata": {
    "collapsed": true
   },
   "outputs": [],
   "source": [
    "#df_Authors_Lectures_Category=df_Authors_Lectures_Category.dropna()    #Dropping Null Values"
   ]
  },
  {
   "cell_type": "code",
   "execution_count": null,
   "metadata": {
    "collapsed": true
   },
   "outputs": [],
   "source": [
    "#df_Authors_Lectures_Category=df_Authors_Lectures_Category.drop_duplicates()                                #removing duplicate values"
   ]
  },
  {
   "cell_type": "code",
   "execution_count": null,
   "metadata": {},
   "outputs": [],
   "source": [
    "df_Authors_Lectures_Category.head()"
   ]
  },
  {
   "cell_type": "code",
   "execution_count": null,
   "metadata": {
    "collapsed": true
   },
   "outputs": [],
   "source": [
    "df_Authors_Lectures_Category['LectureID']=pd.to_numeric(df_Authors_Lectures_Category.LectureID, errors='coerce')"
   ]
  },
  {
   "cell_type": "code",
   "execution_count": null,
   "metadata": {},
   "outputs": [],
   "source": [
    "df_Authors_Lectures_Category_Numerical=df_Authors_Lectures_Category[['CategoryID','LectureID','C_Name','AuthorID','language','LecturePaired','Frequency']]"
   ]
  },
  {
   "cell_type": "code",
   "execution_count": null,
   "metadata": {
    "collapsed": true
   },
   "outputs": [],
   "source": [
    "sns.set_style('white')"
   ]
  },
  {
   "cell_type": "code",
   "execution_count": null,
   "metadata": {},
   "outputs": [],
   "source": [
    "df_Authors_Lectures_Category_Numerical.head()"
   ]
  },
  {
   "cell_type": "code",
   "execution_count": null,
   "metadata": {
    "collapsed": true
   },
   "outputs": [],
   "source": [
    "df_Authors_Lectures_Category_Numerical=df_Authors_Lectures_Category_Numerical.drop(df_Authors_Lectures_Category_Numerical.columns[[2]], axis=1)"
   ]
  },
  {
   "cell_type": "code",
   "execution_count": null,
   "metadata": {
    "collapsed": true
   },
   "outputs": [],
   "source": [
    "df_Authors_Lectures_Category_Numerical[\"language\"] = df_Authors_Lectures_Category_Numerical[\"language\"].astype('category')"
   ]
  },
  {
   "cell_type": "code",
   "execution_count": null,
   "metadata": {
    "collapsed": true
   },
   "outputs": [],
   "source": [
    "df_Authors_Lectures_Category_Numerical[\"language\"] = df_Authors_Lectures_Category_Numerical[\"language\"].cat.codes"
   ]
  },
  {
   "cell_type": "code",
   "execution_count": null,
   "metadata": {},
   "outputs": [],
   "source": [
    "df_Authors_Lectures_Category_Numerical.head()"
   ]
  },
  {
   "cell_type": "code",
   "execution_count": null,
   "metadata": {},
   "outputs": [],
   "source": [
    "df_Authors_Lectures_Category_Numerical.dtypes"
   ]
  },
  {
   "cell_type": "code",
   "execution_count": null,
   "metadata": {
    "collapsed": true
   },
   "outputs": [],
   "source": [
    "%matplotlib inline"
   ]
  },
  {
   "cell_type": "code",
   "execution_count": null,
   "metadata": {},
   "outputs": [],
   "source": [
    "#df_Authors_Lectures_Category_Numerical['Frequency'].hist()"
   ]
  },
  {
   "cell_type": "code",
   "execution_count": null,
   "metadata": {},
   "outputs": [],
   "source": [
    "#df_Authors_Lectures_Category['views'].hist()"
   ]
  },
  {
   "cell_type": "code",
   "execution_count": null,
   "metadata": {},
   "outputs": [],
   "source": [
    "#df_Authors_Lectures_Category['views']= df_Authors_Lectures_Category.views.astype(int).dtypes"
   ]
  },
  {
   "cell_type": "code",
   "execution_count": null,
   "metadata": {},
   "outputs": [],
   "source": [
    "#df_Authors_Lectures_Category.dtypes"
   ]
  },
  {
   "cell_type": "code",
   "execution_count": null,
   "metadata": {
    "collapsed": true
   },
   "outputs": [],
   "source": [
    "\n",
    "scaler = StandardScaler()\n",
    "array = df_Authors_Lectures_Category_Numerical.values\n",
    "X = array[:,0:6]\n"
   ]
  },
  {
   "cell_type": "code",
   "execution_count": null,
   "metadata": {},
   "outputs": [],
   "source": [
    "scaler = StandardScaler()\n",
    "scaler.fit(X)\n",
    "X = scaler.transform(X)"
   ]
  },
  {
   "cell_type": "code",
   "execution_count": null,
   "metadata": {
    "collapsed": true
   },
   "outputs": [],
   "source": [
    "# K fold cross validation\n",
    "\n",
    "k_fold = KFold(n_splits=10)\n",
    "\n",
    "for train_indices, test_indices in k_fold.split(X):\n",
    "        X_train,X_test=X[train_indices],X[test_indices]\n",
    "        "
   ]
  },
  {
   "cell_type": "code",
   "execution_count": null,
   "metadata": {},
   "outputs": [],
   "source": [
    "print(df_Authors_Lectures_Category.shape)"
   ]
  },
  {
   "cell_type": "code",
   "execution_count": null,
   "metadata": {},
   "outputs": [],
   "source": [
    "print(df_Authors_Lectures_Category_Numerical.shape)"
   ]
  },
  {
   "cell_type": "code",
   "execution_count": 389,
   "metadata": {},
   "outputs": [],
   "source": [
    "#---------------------------------------------------"
   ]
  },
  {
   "cell_type": "code",
   "execution_count": 374,
   "metadata": {},
   "outputs": [
    {
     "data": {
      "text/plain": [
       "LectureID\n",
       "5788    39.947368\n",
       "5784    32.128205\n",
       "5786    31.857143\n",
       "7063    31.693069\n",
       "5783    31.336283\n",
       "Name: Frequency, dtype: float64"
      ]
     },
     "execution_count": 374,
     "metadata": {},
     "output_type": "execute_result"
    }
   ],
   "source": [
    "df_Authors_Lectures_Category_Numerical.groupby(by=['LectureID'])['Frequency'].mean().sort_values(ascending=False).head()"
   ]
  },
  {
   "cell_type": "code",
   "execution_count": null,
   "metadata": {
    "collapsed": true
   },
   "outputs": [],
   "source": [
    "kmeans=KMeans(n_clusters=20)"
   ]
  },
  {
   "cell_type": "code",
   "execution_count": null,
   "metadata": {
    "collapsed": true
   },
   "outputs": [],
   "source": [
    "kmeans.fit(X)"
   ]
  },
  {
   "cell_type": "code",
   "execution_count": null,
   "metadata": {},
   "outputs": [],
   "source": [
    "# Centroid values\n",
    "centroids = kmeans.cluster_centers_\n",
    "print(centroids)"
   ]
  },
  {
   "cell_type": "code",
   "execution_count": null,
   "metadata": {},
   "outputs": [],
   "source": [
    "print(X)"
   ]
  },
  {
   "cell_type": "code",
   "execution_count": 397,
   "metadata": {},
   "outputs": [],
   "source": [
    "# finding the best set of parameters\n",
    "\n",
    "clf=LogisticRegression(penalty='l2', C=1.0, fit_intercept=True, class_weight=None, solver='lbfgs', max_iter=100, multi_class='ovr', verbose=0, warm_start=False, n_jobs=1)"
   ]
  },
  {
   "cell_type": "code",
   "execution_count": 400,
   "metadata": {},
   "outputs": [],
   "source": [
    "# k-fold cross validation\n",
    "#define clf\n",
    "#scores=cross_val_score(clf,X_train,cv=k_fold)\n",
    "#scores.mean()"
   ]
  },
  {
   "cell_type": "code",
   "execution_count": 43,
   "metadata": {
    "scrolled": true
   },
   "outputs": [
    {
     "data": {
      "text/html": [
       "<div>\n",
       "<style>\n",
       "    .dataframe thead tr:only-child th {\n",
       "        text-align: right;\n",
       "    }\n",
       "\n",
       "    .dataframe thead th {\n",
       "        text-align: left;\n",
       "    }\n",
       "\n",
       "    .dataframe tbody tr th {\n",
       "        vertical-align: top;\n",
       "    }\n",
       "</style>\n",
       "<table border=\"1\" class=\"dataframe\">\n",
       "  <thead>\n",
       "    <tr style=\"text-align: right;\">\n",
       "      <th></th>\n",
       "      <th>CategoryID</th>\n",
       "      <th>LectureID</th>\n",
       "      <th>C_Name</th>\n",
       "      <th>AuthorID</th>\n",
       "      <th>language</th>\n",
       "      <th>LecturePaired</th>\n",
       "      <th>Frequency</th>\n",
       "    </tr>\n",
       "  </thead>\n",
       "  <tbody>\n",
       "    <tr>\n",
       "      <th>0</th>\n",
       "      <td>1</td>\n",
       "      <td>7462</td>\n",
       "      <td>'Arts'</td>\n",
       "      <td>4611</td>\n",
       "      <td>'sl'</td>\n",
       "      <td>7463</td>\n",
       "      <td>16</td>\n",
       "    </tr>\n",
       "    <tr>\n",
       "      <th>1</th>\n",
       "      <td>1</td>\n",
       "      <td>7462</td>\n",
       "      <td>'Arts'</td>\n",
       "      <td>4611</td>\n",
       "      <td>'sl'</td>\n",
       "      <td>9683</td>\n",
       "      <td>10</td>\n",
       "    </tr>\n",
       "    <tr>\n",
       "      <th>2</th>\n",
       "      <td>1</td>\n",
       "      <td>7462</td>\n",
       "      <td>'Arts'</td>\n",
       "      <td>4611</td>\n",
       "      <td>'sl'</td>\n",
       "      <td>11313</td>\n",
       "      <td>2</td>\n",
       "    </tr>\n",
       "    <tr>\n",
       "      <th>3</th>\n",
       "      <td>31</td>\n",
       "      <td>7462</td>\n",
       "      <td>'Visual arts'</td>\n",
       "      <td>4611</td>\n",
       "      <td>'sl'</td>\n",
       "      <td>7463</td>\n",
       "      <td>16</td>\n",
       "    </tr>\n",
       "    <tr>\n",
       "      <th>4</th>\n",
       "      <td>31</td>\n",
       "      <td>7462</td>\n",
       "      <td>'Visual arts'</td>\n",
       "      <td>4611</td>\n",
       "      <td>'sl'</td>\n",
       "      <td>9683</td>\n",
       "      <td>10</td>\n",
       "    </tr>\n",
       "  </tbody>\n",
       "</table>\n",
       "</div>"
      ],
      "text/plain": [
       "  CategoryID LectureID         C_Name AuthorID language LecturePaired  \\\n",
       "0          1      7462         'Arts'     4611     'sl'          7463   \n",
       "1          1      7462         'Arts'     4611     'sl'          9683   \n",
       "2          1      7462         'Arts'     4611     'sl'         11313   \n",
       "3         31      7462  'Visual arts'     4611     'sl'          7463   \n",
       "4         31      7462  'Visual arts'     4611     'sl'          9683   \n",
       "\n",
       "  Frequency  \n",
       "0        16  \n",
       "1        10  \n",
       "2         2  \n",
       "3        16  \n",
       "4        10  "
      ]
     },
     "execution_count": 43,
     "metadata": {},
     "output_type": "execute_result"
    }
   ],
   "source": [
    "df_Authors_Lectures_Category_Numerical.head()"
   ]
  },
  {
   "cell_type": "code",
   "execution_count": null,
   "metadata": {
    "collapsed": true
   },
   "outputs": [],
   "source": [
    "#-----------------------------------------------------------------------"
   ]
  },
  {
   "cell_type": "code",
   "execution_count": 375,
   "metadata": {
    "collapsed": true
   },
   "outputs": [],
   "source": [
    "from scipy.spatial import distance_matrix"
   ]
  },
  {
   "cell_type": "code",
   "execution_count": 376,
   "metadata": {
    "collapsed": true
   },
   "outputs": [],
   "source": [
    "cluster=df_Authors_Lectures_Category_Numerical.copy"
   ]
  },
  {
   "cell_type": "code",
   "execution_count": 377,
   "metadata": {},
   "outputs": [
    {
     "data": {
      "text/plain": [
       "CategoryID       int32\n",
       "LectureID        int64\n",
       "AuthorID         int32\n",
       "language          int8\n",
       "LecturePaired    int32\n",
       "Frequency        int32\n",
       "dtype: object"
      ]
     },
     "execution_count": 377,
     "metadata": {},
     "output_type": "execute_result"
    }
   ],
   "source": [
    "df_Authors_Lectures_Category_Numerical.dtypes"
   ]
  },
  {
   "cell_type": "code",
   "execution_count": 380,
   "metadata": {},
   "outputs": [
    {
     "ename": "TypeError",
     "evalue": "'method' object is not subscriptable",
     "output_type": "error",
     "traceback": [
      "\u001b[1;31m---------------------------------------------------------------------------\u001b[0m",
      "\u001b[1;31mTypeError\u001b[0m                                 Traceback (most recent call last)",
      "\u001b[1;32m<ipython-input-380-69e7cbac7dd0>\u001b[0m in \u001b[0;36m<module>\u001b[1;34m()\u001b[0m\n\u001b[1;32m----> 1\u001b[1;33m \u001b[0mcluster1\u001b[0m\u001b[1;33m[\u001b[0m\u001b[1;34m'CategoryID'\u001b[0m\u001b[1;33m]\u001b[0m\u001b[1;33m=\u001b[0m\u001b[0mpreprocessing\u001b[0m\u001b[1;33m.\u001b[0m\u001b[0mscale\u001b[0m\u001b[1;33m(\u001b[0m\u001b[0mcluster\u001b[0m\u001b[1;33m[\u001b[0m\u001b[1;34m'CategoryID'\u001b[0m\u001b[1;33m]\u001b[0m\u001b[1;33m.\u001b[0m\u001b[0mastype\u001b[0m\u001b[1;33m(\u001b[0m\u001b[1;34m'float64'\u001b[0m\u001b[1;33m)\u001b[0m\u001b[1;33m)\u001b[0m\u001b[1;33m\u001b[0m\u001b[0m\n\u001b[0m",
      "\u001b[1;31mTypeError\u001b[0m: 'method' object is not subscriptable"
     ]
    }
   ],
   "source": [
    "cluster1['CategoryID']=preprocessing.scale(cluster['CategoryID'].astype('float64'))"
   ]
  },
  {
   "cell_type": "code",
   "execution_count": null,
   "metadata": {
    "collapsed": true
   },
   "outputs": [],
   "source": []
  }
 ],
 "metadata": {
  "kernelspec": {
   "display_name": "Python 3",
   "language": "python",
   "name": "python3"
  },
  "language_info": {
   "codemirror_mode": {
    "name": "ipython",
    "version": 3
   },
   "file_extension": ".py",
   "mimetype": "text/x-python",
   "name": "python",
   "nbconvert_exporter": "python",
   "pygments_lexer": "ipython3",
   "version": "3.6.3"
  }
 },
 "nbformat": 4,
 "nbformat_minor": 2
}
